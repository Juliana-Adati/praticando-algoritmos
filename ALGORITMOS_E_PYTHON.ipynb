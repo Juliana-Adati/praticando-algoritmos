{
  "nbformat": 4,
  "nbformat_minor": 0,
  "metadata": {
    "colab": {
      "provenance": [],
      "authorship_tag": "ABX9TyNbPxrmGZ73bts0aZFKkZFr",
      "include_colab_link": true
    },
    "kernelspec": {
      "name": "python3",
      "display_name": "Python 3"
    },
    "language_info": {
      "name": "python"
    }
  },
  "cells": [
    {
      "cell_type": "markdown",
      "metadata": {
        "id": "view-in-github",
        "colab_type": "text"
      },
      "source": [
        "<a href=\"https://colab.research.google.com/github/Juliana-Adati/praticando-algoritmos/blob/main/ALGORITMOS_E_PYTHON.ipynb\" target=\"_parent\"><img src=\"https://colab.research.google.com/assets/colab-badge.svg\" alt=\"Open In Colab\"/></a>"
      ]
    },
    {
      "cell_type": "markdown",
      "source": [
        "# PROJETO\n",
        "# PRÁTICA DE ALGORITMOS EM PYTHON \n",
        "\n"
      ],
      "metadata": {
        "id": "k85iVjr2iRsv"
      }
    },
    {
      "cell_type": "markdown",
      "source": [
        "## PASSO 1 - SEQUÊNCIAS BÁSICAS"
      ],
      "metadata": {
        "id": "BW3bQmCWia5p"
      }
    },
    {
      "cell_type": "markdown",
      "source": [
        "1) Escreva um programa que mostre na tela a mensagem \"Olá, Mundo!\""
      ],
      "metadata": {
        "id": "2KS9g5n7iiME"
      }
    },
    {
      "cell_type": "code",
      "source": [
        "print (\"Olá, Mundo!\")"
      ],
      "metadata": {
        "id": "BIXnMXxNii7k"
      },
      "execution_count": null,
      "outputs": []
    },
    {
      "cell_type": "markdown",
      "source": [
        "2) Faça um programa que leia o nome de uma pessoa e mostre uma mensagem de boas-vindas para ela"
      ],
      "metadata": {
        "id": "nKTaarbFik0U"
      }
    },
    {
      "cell_type": "code",
      "source": [
        "name = input(\"Qual é o seu nome? \")\n",
        "print (\"Bem - vindo (a),\", name)"
      ],
      "metadata": {
        "id": "rfqb_x5giohD"
      },
      "execution_count": null,
      "outputs": []
    },
    {
      "cell_type": "markdown",
      "source": [
        "3) Crie um programa que leia o nome e o salário de um funcionário, mostrando no final uma mensagem"
      ],
      "metadata": {
        "id": "ZIqWwb-AipIs"
      }
    },
    {
      "cell_type": "code",
      "source": [
        "name = input (\"Nome do funcionário: \")\n",
        "salario = input(\"Insira aqui o valor de seu último salário: \")\n",
        "print (\"O funcionário(a)\", name, \"teve um salário de R$\",salario, \"no mês de setembro\")"
      ],
      "metadata": {
        "id": "GxGTqgQPis-7"
      },
      "execution_count": null,
      "outputs": []
    },
    {
      "cell_type": "markdown",
      "source": [
        "4) Desenvolva um algoritmo que leia dois números inteiros e mostre o somatório entre eles"
      ],
      "metadata": {
        "id": "lxjNUqruityj"
      }
    },
    {
      "cell_type": "code",
      "source": [
        "n1 = int(input(\"Digite um número: \"))\n",
        "n2 = int(input(\"Digite outro número: \"))\n",
        "resultado = n1 + n2\n",
        "print(\"A soma entre\", n1, \"e\", n2, \"é igual a\", resultado)"
      ],
      "metadata": {
        "id": "F2jOxSpriwyj"
      },
      "execution_count": null,
      "outputs": []
    },
    {
      "cell_type": "markdown",
      "source": [
        "5) Faça um programa que leia as duas notas de um aluno em uma matéria e mostre na tela a sua média na disciplina"
      ],
      "metadata": {
        "id": "EB5xDQOeixdD"
      }
    },
    {
      "cell_type": "code",
      "source": [
        "nota1 = float(input(\"Insira a primeira nota: \"))\n",
        "nota2 = float(input(\"Insira a segunda nota: \"))\n",
        "media = (nota1 + nota2) / 2\n",
        "print (\"A média do aluno foi\", media)"
      ],
      "metadata": {
        "id": "YWzswNY8i3ba"
      },
      "execution_count": null,
      "outputs": []
    },
    {
      "cell_type": "markdown",
      "source": [
        "6) Faça um programa que leia um número inteiro e mostre o seu antecessor e seu sucessor"
      ],
      "metadata": {
        "id": "1A3O64BDi5yU"
      }
    },
    {
      "cell_type": "code",
      "source": [
        "aleatorio = int(input(\"Digite um número: \"))\n",
        "sucessor = aleatorio + 1\n",
        "antecessor = aleatorio - 1\n",
        "print(\"O antecessor do número\", aleatorio, \"é o\", antecessor, \"e o sucessor é o\", sucessor)"
      ],
      "metadata": {
        "id": "yZRG2w06i6YC"
      },
      "execution_count": null,
      "outputs": []
    },
    {
      "cell_type": "markdown",
      "source": [
        "7) Crie um algoritmo que leia um número real e mostre na tela o seu dobro e a sua terça parte"
      ],
      "metadata": {
        "id": "CckA6M0si8SK"
      }
    },
    {
      "cell_type": "code",
      "source": [
        "x = float(input(\"Digite um número: \"))\n",
        "y = x + x\n",
        "z = x / 3\n",
        "print(\"O dobro deste número é igual a\", y, \"e a terça parte do número é igual a\", z)"
      ],
      "metadata": {
        "id": "CpmGNrMxi96C"
      },
      "execution_count": null,
      "outputs": []
    },
    {
      "cell_type": "markdown",
      "source": [
        "8) Desenvolva um programa que leia uma distância em metros e mostre os valores relativos em outras medidas"
      ],
      "metadata": {
        "id": "fGpU_Xa9jCCq"
      }
    },
    {
      "cell_type": "code",
      "source": [
        "medida = float(input(\"Informe uma distância em km: \"))\n",
        "hm = medida * 10\n",
        "dam = hm * 10\n",
        "dm = dam * 10\n",
        "cm = dm * 10\n",
        "mm = cm * 10\n",
        "print(\"A distância informada corresponde a\", hm, \"hm\", dam, \"dam\", dm, \"dm\", cm, \"cm\", mm, \"mm\")"
      ],
      "metadata": {
        "id": "w54omrXDjD5D"
      },
      "execution_count": null,
      "outputs": []
    },
    {
      "cell_type": "markdown",
      "source": [
        "9) Faça um algoritmo que leia quanto reais uma pessoa tem na carteira e mostre quantos dólares ela pode comprar. Considere US$1,00 = RS3,45"
      ],
      "metadata": {
        "id": "Y8HKpWyVjF_6"
      }
    },
    {
      "cell_type": "code",
      "source": [
        "carteira = float(input(\"Quantos reais você possui na carteira? \"))\n",
        "dolares = carteira * 3.45\n",
        "print(\"Com essa quantidade de reais, você pode comprar $\",dolares)"
      ],
      "metadata": {
        "id": "rvq-KUpJjHo6"
      },
      "execution_count": null,
      "outputs": []
    },
    {
      "cell_type": "markdown",
      "source": [
        "10) Crie um programa que leia o preço de um produto, calcule e mostre o seu PREÇO PROMOCIONAL, com 5% de desconto"
      ],
      "metadata": {
        "id": "myl9-macjJcK"
      }
    },
    {
      "cell_type": "code",
      "source": [
        "p1 = float(input(\"Qual é o valor do produto? \"))\n",
        "p2 = p1 * 5/100\n",
        "desconto = p1 - p2 \n",
        "print(\"O valor final do produto, com 15% de desconto, é:\", desconto)"
      ],
      "metadata": {
        "id": "3K8s29DwjRQq"
      },
      "execution_count": null,
      "outputs": []
    },
    {
      "cell_type": "markdown",
      "source": [
        "11) Faça um algoritmo que leia o salário de um funcionário, calcule e mostre o seu novo salário, com 15% de aumento"
      ],
      "metadata": {
        "id": "65JaHztyjW9J"
      }
    },
    {
      "cell_type": "code",
      "source": [
        "salario = int(input(\"Informe o valor do salário atual: \"))\n",
        "aumento1 = salario * 15/100\n",
        "aumento2 = salario + aumento1\n",
        "print(\"O novo salário do funcionário será de\", aumento2)"
      ],
      "metadata": {
        "id": "wOgIBDb0jYr5"
      },
      "execution_count": null,
      "outputs": []
    },
    {
      "cell_type": "markdown",
      "source": [
        "12) A locadora de carros precisa da sua ajuda para cobrar seus serviços. Escreva um programa que pergunte a quantidade de Km percorridos por um carro alugado e a quantidade de dias pelos quais ele foi alugado. Calcule o preço total a pagar, sabendo que o carro custa 90 reais por dia e R$0,20 por Km rodado"
      ],
      "metadata": {
        "id": "kJrM8rrmjaxp"
      }
    },
    {
      "cell_type": "code",
      "source": [
        "kmrodado = float(input(\"Quantos km foram percorridos com o carro? \"))\n",
        "dias = int(input(\"Por quantos dias o carro foi alugado? \"))\n",
        "kmresultado = kmrodado * 0.20\n",
        "rdias = dias * 90\n",
        "rfinal = kmresultado + rdias\n",
        "print(\"O valor total a pagar será de R$\", rfinal)"
      ],
      "metadata": {
        "id": "S_0BKP5jjb3a"
      },
      "execution_count": null,
      "outputs": []
    },
    {
      "cell_type": "markdown",
      "source": [
        "13) Crie um programa que leia o número de dias trabalhados em um mês e mostre o salário de um funcionário, sabendo que ele trabalha 8 horas por dia e ganha R$25 por hora trabalhada"
      ],
      "metadata": {
        "id": "5A3M_Ajrjd-p"
      }
    },
    {
      "cell_type": "code",
      "source": [
        "dias = int(input(\"Quantos dias foram trabalhados no mês? \"))\n",
        "salario1 = dias * 8 \n",
        "salario2 = salario1 * 25\n",
        "print(\"O salário do colaborador será de\", salario2)"
      ],
      "metadata": {
        "id": "iM4B8z1EjhB4"
      },
      "execution_count": null,
      "outputs": []
    },
    {
      "cell_type": "markdown",
      "source": [],
      "metadata": {
        "id": "c-e6g92CjoBX"
      }
    },
    {
      "cell_type": "markdown",
      "source": [
        "## PASSO 2 - CONDIÇÕES BÁSICAS"
      ],
      "metadata": {
        "id": "82k-s_KAjpHn"
      }
    },
    {
      "cell_type": "markdown",
      "source": [
        "14) Escreva um programa que pergunte a velocidade de um carro. Caso ultrapasse 80Km/h, exiba uma mensagem dizendo que o usuário foi multado. Nesse caso, exiba o valor da multa, cobrando R$5 por cada Km acima da velocidade permitida"
      ],
      "metadata": {
        "id": "gkLhESJljuhw"
      }
    },
    {
      "cell_type": "code",
      "source": [
        "velocidade = int(input(\"Qual a velocidade, em km, que o veículo estava? \"))\n",
        "if(velocidade > 80):\n",
        "  multa = (velocidade - 80) * 5\n",
        "  print(\"A multa do veículo será de R$\", multa)"
      ],
      "metadata": {
        "id": "9BL5XciHjwzx"
      },
      "execution_count": null,
      "outputs": []
    },
    {
      "cell_type": "markdown",
      "source": [
        "15) Faça um programa que leia o ano de nascimento de uma pessoa, calcule a idade dela e depois mostre se ela pode ou não votar"
      ],
      "metadata": {
        "id": "hYca8LFojylY"
      }
    },
    {
      "cell_type": "code",
      "source": [
        "idade = int(input(\"Qual a sua idade? \"))\n",
        "if(idade < 18):\n",
        "  print(\"Como você tem\", idade, \"anos, não pode votar!\")\n",
        "else:\n",
        "  print(\"Como você é maior de idade, poderá votar!\")"
      ],
      "metadata": {
        "id": "VHRxmTrrj0iZ"
      },
      "execution_count": null,
      "outputs": []
    },
    {
      "cell_type": "markdown",
      "source": [
        "16) Crie um algoritmo que leia o nome e as duas notas de um aluno, calcule a sua média e mostre na tela. No final, analise a média e mostre se o aluno teve ou não um bom aproveitamento (se ficou acima da média 7.0)"
      ],
      "metadata": {
        "id": "C7xSw2r5j2OQ"
      }
    },
    {
      "cell_type": "code",
      "source": [
        "nome = input(\"Qual o nome do aluno? \")\n",
        "nota1 = float(input(\"Agora, informe a primeira nota no bimestre: \"))\n",
        "nota2 = float(input(\"Informe a segunda nota no bimestre: \"))\n",
        "media = (nota1 + nota2) / 2\n",
        "if media < 7.0:\n",
        "  print(\"O aluno,\", nome, \"ficou de recuperação, pois sua nota final foi de \",media)\n",
        "else:\n",
        "  print(\"O aluno,\", nome, \"passou direto, pois sua nota final foi de\", media, \"boas férias!\")"
      ],
      "metadata": {
        "id": "tAs_-h5zj4Op"
      },
      "execution_count": null,
      "outputs": []
    },
    {
      "cell_type": "markdown",
      "source": [
        "17) Desenvolva um programa que leia um número inteiro e mostre se ele é PAR ou ÍMPAR"
      ],
      "metadata": {
        "id": "DPmszqMNj58g"
      }
    },
    {
      "cell_type": "code",
      "source": [
        "aleatorio = int(input(\"Digite um número qualquer: \"))\n",
        "if (aleatorio%2) == 0:\n",
        "  print(\"O número\", aleatorio, \"é par\")\n",
        "else:\n",
        "  print(\"O número\", aleatorio, \"é ímpar\")"
      ],
      "metadata": {
        "id": "1Y-lGxArj-NP"
      },
      "execution_count": null,
      "outputs": []
    },
    {
      "cell_type": "markdown",
      "source": [
        "18) Faça um algoritmo que leia um determinado ano e mostre se ele é ou não BISSEXTO"
      ],
      "metadata": {
        "id": "dWQNMqN9kAp3"
      }
    },
    {
      "cell_type": "code",
      "source": [
        "year = int(input(\"Informe um ano: \"))\n",
        "if (year%4) == 0:\n",
        "  print(\"O ano informado é bissexto\")\n",
        "else:\n",
        "  print(\"O ano informado não é bissexto\")"
      ],
      "metadata": {
        "id": "eIUharuhkDrX"
      },
      "execution_count": null,
      "outputs": []
    },
    {
      "cell_type": "markdown",
      "source": [
        "20) Escreva um programa que leia o ano de nascimento de um rapaz e mostre a sua situação em relação ao alistamento militar.\n",
        "\n",
        "Se estiver antes dos 18 anos, mostre em quantos anos faltam para o alistamento.\n",
        "Se já tiver depois dos 18 anos, mostre quantos anos já se passaram do alistamento."
      ],
      "metadata": {
        "id": "i55ZQBvKkEc3"
      }
    },
    {
      "cell_type": "code",
      "source": [
        "idade = int(input(\"Quantos anos você tem? \"))\n",
        "if idade >= 18:\n",
        "  alistamento = idade - 18\n",
        "  print(\"Já se passaram\", alistamento, \"anos desde que você devia se alistar\")\n",
        "else:\n",
        "  alistamento = 18 - idade\n",
        "  print(\"Ainda faltam\", alistamento, \"anos para que você precise se alistar\")"
      ],
      "metadata": {
        "id": "qCMuLFuhkGb3"
      },
      "execution_count": null,
      "outputs": []
    },
    {
      "cell_type": "markdown",
      "source": [
        "23) Numa promoção exclusiva para o Dia da Mulher, uma loja quer dar descontos para todos, mas especialmente para mulheres. Faça um programa que leia nome, sexo e o valor das compras do cliente e calcule o preço com desconto. Sabendo que:\n",
        "\n",
        "Homens ganham 5% de desconto\n",
        "Mulheres ganham 13% de desconto"
      ],
      "metadata": {
        "id": "IQWV1t7mkITQ"
      }
    },
    {
      "cell_type": "code",
      "source": [
        "nome = input(\"Informe o nome d@ cliente: \")\n",
        "gen = str(input(\"Informe o gênero d@ cliente: ]m/f] \"))\n",
        "compras = float(input(\"Qual o valor total das compras d@ cliente? \"))\n",
        "if (gen == \"m\"):\n",
        "  compras = compras - 5/100\n",
        "  print(\"O valor final, com desconto, do cliente\", nome, \"é de R$\", compras)\n",
        "else:\n",
        "  compras = compras - 13/100\n",
        "  print(\"O valor final, com desconto, da cliente\", nome, \"é de R$\", compras)"
      ],
      "metadata": {
        "id": "9mxTJ_eqkKEn"
      },
      "execution_count": null,
      "outputs": []
    },
    {
      "cell_type": "markdown",
      "source": [
        "## PASSO 3 - CONDIÇÕES COMPOSTAS"
      ],
      "metadata": {
        "id": "fe2mhBxPkL3X"
      }
    },
    {
      "cell_type": "markdown",
      "source": [
        "Escreva um algoritmo que leia dois números inteiros e compare-os, mostrando na tela uma das mensagens abaixo:\n",
        "\n",
        "O primeiro valor é o maior\n",
        "O segundo valor é o maior\n",
        "Não existe valor maior, os dois são iguais"
      ],
      "metadata": {
        "id": "8Y2Ntr-6kaZl"
      }
    },
    {
      "cell_type": "code",
      "source": [
        "n1 = int(input(\"Informe um número: \"))\n",
        "n2 = int(input(\"Informe outro número: \"))\n",
        "if n1 > n2:\n",
        "  print(\"O primeiro valor é maior\")\n",
        "elif n1 < n2:\n",
        "  print(\"O segundo valor é maior\")\n",
        "else:\n",
        "  print(\"Não existe valor maior, os dois são iguais\")"
      ],
      "metadata": {
        "id": "MGsrCuIEkcD-"
      },
      "execution_count": null,
      "outputs": []
    },
    {
      "cell_type": "markdown",
      "source": [
        "Crie um programa que leia duas notas de um aluno e calcule a sua média, mostrando uma mensagem no final, de acordo com a média atingida:\n",
        "\n",
        "Média até 4.9: REPROVADO\n",
        "Média entre 5.0 e 6.9: RECUPERAÇÃO\n",
        "Média 7.0 ou superior: APROVADO"
      ],
      "metadata": {
        "id": "70LqPThWkdqX"
      }
    },
    {
      "cell_type": "code",
      "source": [
        "nota1 = float(input(\"Digite aqui sua primeira nota no bimestre: \"))\n",
        "nota2 = float(input(\"Digite aqui sua segunda nota no bimestre: \"))\n",
        "media = (nota1 + nota2) / 2\n",
        "if media <= 4.9: \n",
        "  print(\"REPROVADO!\")\n",
        "elif media > 5.0 and media <= 6.9:\n",
        "  print(\"RECUPERAÇÃO\")\n",
        "else:\n",
        "  print (\"APROVADO\")"
      ],
      "metadata": {
        "id": "JS7Cx_iPkfO1"
      },
      "execution_count": null,
      "outputs": []
    },
    {
      "cell_type": "markdown",
      "source": [
        "[DESAFIO] Crie um jogo de JoKenPo (Pedra-Papel-Tesoura)"
      ],
      "metadata": {
        "id": "pmemVF-hkht-"
      }
    },
    {
      "cell_type": "code",
      "source": [
        "mov = input(\"Escolha um: [Pedra, Papel, Tesoura] \")\n",
        "if mov == \"Pedra\":\n",
        "  print(\"Papel! Ganhei!\")\n",
        "elif mov == \"Papel\":\n",
        "  print(\"Tesoura! Ganhei!\")\n",
        "else:\n",
        "  print(\"Pedra! Ganhei!\")"
      ],
      "metadata": {
        "id": "qL2PgrAhkkC-"
      },
      "execution_count": null,
      "outputs": []
    },
    {
      "cell_type": "markdown",
      "source": [
        "## PASSO 4 - ESTRUTURAS DE REPETIÇÃO 'WHILE'"
      ],
      "metadata": {
        "id": "1xJ-kbwhkl4m"
      }
    },
    {
      "cell_type": "markdown",
      "source": [
        "Crie um programa que solicita um número ao usuário, e informa se o número é par ou ímpar, até que esse número seja 0"
      ],
      "metadata": {
        "id": "YSH0O7A5kwlM"
      }
    },
    {
      "cell_type": "code",
      "source": [
        "random = 1\n",
        "while random != 0:\n",
        "  random = int(input(\"Digite um número aleatório: \"))\n",
        "  if random % 2 == 0:\n",
        "    print(\"Número par!\")\n",
        "  else:\n",
        "    print(\"Número ímpar\")"
      ],
      "metadata": {
        "id": "_23jxtmskyUt"
      },
      "execution_count": null,
      "outputs": []
    },
    {
      "cell_type": "markdown",
      "source": [
        "Escreva um programa que mostre na tela a seguinte contagem: 6 7 8 9 10 11 Acabou!"
      ],
      "metadata": {
        "id": "q8Voy_mrkzvV"
      }
    },
    {
      "cell_type": "code",
      "source": [
        "contagem = 6\n",
        "while contagem < 12:\n",
        "  print(contagem)\n",
        "  contagem = contagem + 1\n",
        "print (\"Acabou!\")"
      ],
      "metadata": {
        "id": "BRExCO86k1PN"
      },
      "execution_count": null,
      "outputs": []
    },
    {
      "cell_type": "markdown",
      "source": [
        "Faça um algoritmo que mostre na tela a seguinte contagem: 10 9 8 7 6 5 4 3 Acabou!"
      ],
      "metadata": {
        "id": "yuIsa-Rmk2yV"
      }
    },
    {
      "cell_type": "code",
      "source": [
        "numero = 10\n",
        "while numero > 2:\n",
        "  print(numero)\n",
        "  numero = numero - 1\n",
        "print(\"Acabou!\")"
      ],
      "metadata": {
        "id": "fWJlZk66k4kL"
      },
      "execution_count": null,
      "outputs": []
    },
    {
      "cell_type": "markdown",
      "source": [
        "Crie um aplicativo que mostre na tela a seguinte contagem: 0 3 6 9 12 15 18 Acabou!"
      ],
      "metadata": {
        "id": "rm_VA2yAk7O7"
      }
    },
    {
      "cell_type": "code",
      "source": [
        "t = 0\n",
        "while t < 19:\n",
        "  print(t)\n",
        "  t = t + 3\n",
        "print(\"Acabou!\")"
      ],
      "metadata": {
        "id": "kgcKXdhHk81r"
      },
      "execution_count": null,
      "outputs": []
    },
    {
      "cell_type": "markdown",
      "source": [
        "Desenvolva um programa que mostre na tela a seguinte contagem: 100 95 90 85 80 ... 0 Acabou!"
      ],
      "metadata": {
        "id": "RU60fVeAk_Bj"
      }
    },
    {
      "cell_type": "code",
      "source": [
        "i = 100\n",
        "while i > -1:\n",
        "  print(i)\n",
        "  i = i - 5\n",
        "print(\"Acabou!\")"
      ],
      "metadata": {
        "id": "BC-MgLA4lAuM"
      },
      "execution_count": null,
      "outputs": []
    },
    {
      "cell_type": "markdown",
      "source": [
        "Faça um algoritmo que pergunte ao usuário um número inteiro e positivo qualquer e mostre uma contagem até esse valor: Ex: Digite um valor: 35 Contagem: 1 2 3 4 5 6 7 ... 33 34 35 Acabou!"
      ],
      "metadata": {
        "id": "jqfH6KaElCkj"
      }
    },
    {
      "cell_type": "code",
      "source": [
        "aleatorio = int(input(\"Digite um valor: \"))\n",
        "contagem = 0\n",
        "while aleatorio < contagem + 1:\n",
        "  print(aleatorio)\n",
        "  contagem = aleatorio + 1\n",
        "print (\"Acabou!\")"
      ],
      "metadata": {
        "id": "78czYA0RlEBr"
      },
      "execution_count": null,
      "outputs": []
    },
    {
      "cell_type": "markdown",
      "source": [
        "Desenvolva um algoritmo que mostre uma contagem regressiva de 30 até 1, marcando os números que forem divisíveis por 4, exatamente como mostrado abaixo: 30 29 [28] 27 26 25 [24] 23 22 21 [20] 19 18 17 [16]..."
      ],
      "metadata": {
        "id": "rWLyt1i-lF7r"
      }
    },
    {
      "cell_type": "code",
      "source": [
        "x = 30\n",
        "while x < 31:\n",
        "  if x % 4 == 0:\n",
        "    print (\"'\",x,\"'\")\n",
        "  else:\n",
        "    print (x)\n",
        "    x = x - 1"
      ],
      "metadata": {
        "id": "r6GEGSjRlIqj"
      },
      "execution_count": null,
      "outputs": []
    },
    {
      "cell_type": "markdown",
      "source": [
        "Crie um algoritmo que leia o valor inicial da contagem, o valor final e o incremento, mostrando em seguida todos os valores no intervalo: Ex: Digite o primeiro Valor: 3 Digite o último Valor: 10 Digite o incremento: 2 Contagem: 3 5 7 9 Acabou!"
      ],
      "metadata": {
        "id": "qpjipgVAlKuL"
      }
    },
    {
      "cell_type": "code",
      "source": [
        "final = int(input(\"Digite o último valor da contagem: \"))\n",
        "incremento = int(input(\"Digite o incremento: \"))\n",
        "while final != incremento:\n",
        "  print()"
      ],
      "metadata": {
        "id": "LLfzCJSulMCa"
      },
      "execution_count": null,
      "outputs": []
    },
    {
      "cell_type": "markdown",
      "source": [
        "## PASSO 5 - ESTRUTURAS DE REPETIÇÃO 'FOR'"
      ],
      "metadata": {
        "id": "G0gMAvbslO-r"
      }
    },
    {
      "cell_type": "markdown",
      "source": [
        "Desenvolva um programa usando a estrutura “para” que mostre na tela a seguinte contagem: 0 5 10 15 20 25 30 35 40 Acabou!"
      ],
      "metadata": {
        "id": "gMvMFtvWldNa"
      }
    },
    {
      "cell_type": "code",
      "source": [
        "for n in range (0, 45, 5):\n",
        "  print(n)\n",
        "print (\"Acabou!\")"
      ],
      "metadata": {
        "id": "3cXguCM-ld4j"
      },
      "execution_count": null,
      "outputs": []
    },
    {
      "cell_type": "markdown",
      "source": [
        "Desenvolva um programa usando a estrutura “para” que mostre na tela a seguinte contagem: 100 90 80 70 60 50 40 30 20 10 0 Acabou!"
      ],
      "metadata": {
        "id": "14x3yFRplhLz"
      }
    },
    {
      "cell_type": "code",
      "source": [
        "for n in range (100, 0, -10):\n",
        "  print(n)\n",
        "print(\"Acabou!\")"
      ],
      "metadata": {
        "id": "owvaQLaEljvy"
      },
      "execution_count": null,
      "outputs": []
    },
    {
      "cell_type": "markdown",
      "source": [
        "Faça um programa usando a estrutura “para” que leia um número inteiro positivo e mostre na tela uma contagem de 0 até o valor digitado: Ex: Digite um valor: 9 Contagem: 0, 1, 2, 3, 4, 5, 6, 7, 8, 9, FIM!"
      ],
      "metadata": {
        "id": "fKMPRiSnlvXC"
      }
    },
    {
      "cell_type": "code",
      "source": [
        "n1 = int(input(\"Digite um número: \"))\n",
        "n2 = int(input(\"Digite outro número: \"))\n",
        "for c in range (n1, n2+1):\n",
        "  print(c)\n",
        "print(\"FIM!\")"
      ],
      "metadata": {
        "id": "o21Q76OhmtFV"
      },
      "execution_count": null,
      "outputs": []
    }
  ]
}